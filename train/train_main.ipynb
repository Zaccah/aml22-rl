{
  "cells": [
    {
      "cell_type": "markdown",
      "metadata": {
        "id": "Igz-uJX17o9a"
      },
      "source": [
        "Install stable-baselines3 for training algorithms"
      ]
    },
    {
      "cell_type": "code",
      "execution_count": null,
      "metadata": {
        "colab": {
          "base_uri": "https://localhost:8080/"
        },
        "id": "IguhlEvu7urL",
        "outputId": "13680c8f-284a-493e-e6d0-d5a0dd1332b1"
      },
      "outputs": [],
      "source": [
        "!pip install stable_baselines3[extra]"
      ]
    },
    {
      "cell_type": "markdown",
      "metadata": {
        "id": "R4zfEj-N7bUW"
      },
      "source": [
        "Set-up code"
      ]
    },
    {
      "cell_type": "code",
      "execution_count": null,
      "metadata": {
        "colab": {
          "base_uri": "https://localhost:8080/"
        },
        "id": "AW6XT0jSJI8e",
        "outputId": "e5bef678-fb38-4587-c85f-878d5bd534b4"
      },
      "outputs": [],
      "source": [
        "!apt-get install -y \\\n",
        "    libgl1-mesa-dev \\\n",
        "    libgl1-mesa-glx \\\n",
        "    libglew-dev \\\n",
        "    libosmesa6-dev \\\n",
        "    software-properties-common\n",
        "\n",
        "!apt-get install -y patchelf\n",
        "\n",
        "!pip install gym\n",
        "!pip install free-mujoco-py"
      ]
    },
    {
      "cell_type": "markdown",
      "metadata": {
        "id": "tTg2PbLZ7aIt"
      },
      "source": [
        "Unzip custom-hopper environment and utils"
      ]
    },
    {
      "cell_type": "code",
      "execution_count": null,
      "metadata": {
        "colab": {
          "base_uri": "https://localhost:8080/"
        },
        "id": "-A_vfyEo7k0-",
        "outputId": "a59646bd-fab6-413e-ddd6-3321e17560d2"
      },
      "outputs": [],
      "source": [
        "!unzip env_images_grayscale.zip"
      ]
    },
    {
      "cell_type": "markdown",
      "metadata": {
        "id": "6zuhEHzJ8G9j"
      },
      "source": [
        "Import libraries"
      ]
    },
    {
      "cell_type": "code",
      "execution_count": null,
      "metadata": {
        "id": "NaSevanS8Kgs"
      },
      "outputs": [],
      "source": [
        "import gym\n",
        "from env_images_grayscale.custom_hopper import *\n",
        "from stable_baselines3 import PPO\n",
        "# from gym.wrappers.pixel_observation import PixelObservationWrapper\n",
        "# from gym.wrappers import FrameStack  \n",
        "# from gym.wrappers import FlattenObservation\n",
        "# import torch \n",
        "# import numpy as np\n",
        "# import matplotlib.pyplot as plt\n",
        "# from RawImagesWrapper import *\n",
        "# from gym.wrappers import FilterObservation\n",
        "from stable_baselines3.common.env_checker import check_env\n",
        "from stable_baselines3.common.vec_env import DummyVecEnv\n",
        "from stable_baselines3.common.vec_env import VecFrameStack\n",
        "from stable_baselines3.common.evaluation import evaluate_policy"
      ]
    },
    {
      "attachments": {},
      "cell_type": "markdown",
      "metadata": {},
      "source": [
        "Make environment and wrapper to stack frames"
      ]
    },
    {
      "cell_type": "code",
      "execution_count": null,
      "metadata": {
        "id": "21xb71Ep-2oW"
      },
      "outputs": [],
      "source": [
        "env = gym.make('CustomHopper-source-v0')\n",
        "vect_env = DummyVecEnv([lambda: gym.make('CustomHopper-source-v0')])\n",
        "vect_env = VecFrameStack(vect_env, 4)\n",
        "check_env(env)"
      ]
    },
    {
      "attachments": {},
      "cell_type": "markdown",
      "metadata": {},
      "source": [
        "Create model and learn"
      ]
    },
    {
      "cell_type": "code",
      "execution_count": null,
      "metadata": {
        "id": "HwjzT82eyO3V"
      },
      "outputs": [],
      "source": [
        "# policy_kwargs = dict(\n",
        "#     features_extractor_class=Custom_convLSTM,\n",
        "#     features_extractor_kwargs=dict(features_dim=512),\n",
        "# )\n",
        "model = PPO(\"CnnPolicy\", vect_env, verbose=1, tensorboard_log='./training_logs/grayscale100k')\n",
        "model.learn(total_timesteps=100000)"
      ]
    },
    {
      "cell_type": "markdown",
      "metadata": {
        "id": "QkdkvRwqhGfO"
      },
      "source": [
        "Load model and continue learning"
      ]
    },
    {
      "cell_type": "code",
      "execution_count": null,
      "metadata": {
        "colab": {
          "base_uri": "https://localhost:8080/",
          "height": 68,
          "referenced_widgets": [
            "683b10fef7864a31b952ece537019b6b",
            "b75ac57973ed40a49b10e4a64a8f9d97"
          ]
        },
        "id": "LGznQ5x-hFF_",
        "outputId": "9ba813b2-a10f-4620-ed4f-b1bb893e5492"
      },
      "outputs": [],
      "source": [
        "# policy_kwargs = dict(\n",
        "#     features_extractor_class=Custom_convLSTM,\n",
        "#     features_extractor_kwargs=dict(features_dim=512),\n",
        "# )\n",
        "model = PPO(\"CnnPolicy\", vect_env, verbose=1, tensorboard_log='./drive/MyDrive/training_logs/grayscale200k').load('./drive/MyDrive/trained_models/PPO_grayscale100k', env=vect_env)\n",
        "model.learn(total_timesteps=100000, progress_bar=True)"
      ]
    },
    {
      "attachments": {},
      "cell_type": "markdown",
      "metadata": {},
      "source": [
        "Mount drive to save model"
      ]
    },
    {
      "cell_type": "code",
      "execution_count": null,
      "metadata": {
        "colab": {
          "base_uri": "https://localhost:8080/"
        },
        "id": "FNccqY0N35nA",
        "outputId": "62a404f1-e02d-4185-93dd-b7a8b9e7c8ae"
      },
      "outputs": [],
      "source": [
        "from google.colab import drive\n",
        "drive.mount('/content/drive')"
      ]
    },
    {
      "cell_type": "markdown",
      "metadata": {
        "id": "xmPG5Xag-rkH"
      },
      "source": [
        "Save model for evaluation"
      ]
    },
    {
      "cell_type": "code",
      "execution_count": null,
      "metadata": {
        "id": "AScRczQn-q8t"
      },
      "outputs": [],
      "source": [
        "model.save('./drive/MyDrive/trained_models/PPO_grayscale200k')\n",
        "# model.save('./trained_models/PPO_vect_env')"
      ]
    },
    {
      "attachments": {},
      "cell_type": "markdown",
      "metadata": {},
      "source": [
        "Evaluate model using evaluation function from stable-baselines3"
      ]
    },
    {
      "cell_type": "code",
      "execution_count": null,
      "metadata": {
        "colab": {
          "base_uri": "https://localhost:8080/"
        },
        "id": "mmqgbzllYBAy",
        "outputId": "bff18037-6ee7-4e5b-c39f-3d5b85df67d3"
      },
      "outputs": [],
      "source": [
        "mean_rwd, std_rwd = evaluate_policy(model=model, env=vect_env, n_eval_episodes=5, render=False)\n",
        "print(mean_rwd, std_rwd)"
      ]
    }
  ],
  "metadata": {
    "accelerator": "GPU",
    "colab": {
      "provenance": []
    },
    "gpuClass": "standard",
    "kernelspec": {
      "display_name": "venv",
      "language": "python",
      "name": "python3"
    },
    "language_info": {
      "name": "python",
      "version": "3.7.16 (default, Dec  7 2022, 01:12:19) \n[GCC 9.4.0]"
    },
    "vscode": {
      "interpreter": {
        "hash": "49249751ee63bd48d0c8509efabb3201649b5068ef7e5b6002dae5fcab5bf347"
      }
    },
    "widgets": {
      "application/vnd.jupyter.widget-state+json": {
        "683b10fef7864a31b952ece537019b6b": {
          "model_module": "@jupyter-widgets/output",
          "model_module_version": "1.0.0",
          "model_name": "OutputModel",
          "state": {
            "_dom_classes": [],
            "_model_module": "@jupyter-widgets/output",
            "_model_module_version": "1.0.0",
            "_model_name": "OutputModel",
            "_view_count": null,
            "_view_module": "@jupyter-widgets/output",
            "_view_module_version": "1.0.0",
            "_view_name": "OutputView",
            "layout": "IPY_MODEL_b75ac57973ed40a49b10e4a64a8f9d97",
            "msg_id": "",
            "outputs": [
              {
                "data": {
                  "text/html": "<pre style=\"white-space:pre;overflow-x:auto;line-height:normal;font-family:Menlo,'DejaVu Sans Mono',consolas,'Courier New',monospace\"><span style=\"color: #800080; text-decoration-color: #800080\">   9%</span> <span style=\"color: #f92672; text-decoration-color: #f92672\">━━━━━╸</span><span style=\"color: #3a3a3a; text-decoration-color: #3a3a3a\">━━━━━━━━━━━━━━━━━━━━━━━━━━━━━━━━━━━━━━━━━━━━━━━━━━━━━━━━</span> <span style=\"color: #008000; text-decoration-color: #008000\">9,100/100,000 </span> [ <span style=\"color: #808000; text-decoration-color: #808000\">0:12:58</span> &lt; <span style=\"color: #008080; text-decoration-color: #008080\">1:54:01</span> , <span style=\"color: #800000; text-decoration-color: #800000\">13 it/s</span> ]\n</pre>\n",
                  "text/plain": "\u001b[35m   9%\u001b[0m \u001b[38;2;249;38;114m━━━━━\u001b[0m\u001b[38;2;249;38;114m╸\u001b[0m\u001b[38;5;237m━━━━━━━━━━━━━━━━━━━━━━━━━━━━━━━━━━━━━━━━━━━━━━━━━━━━━━━━\u001b[0m \u001b[32m9,100/100,000 \u001b[0m [ \u001b[33m0:12:58\u001b[0m < \u001b[36m1:54:01\u001b[0m , \u001b[31m13 it/s\u001b[0m ]\n"
                },
                "metadata": {},
                "output_type": "display_data"
              }
            ]
          }
        },
        "b75ac57973ed40a49b10e4a64a8f9d97": {
          "model_module": "@jupyter-widgets/base",
          "model_module_version": "1.2.0",
          "model_name": "LayoutModel",
          "state": {
            "_model_module": "@jupyter-widgets/base",
            "_model_module_version": "1.2.0",
            "_model_name": "LayoutModel",
            "_view_count": null,
            "_view_module": "@jupyter-widgets/base",
            "_view_module_version": "1.2.0",
            "_view_name": "LayoutView",
            "align_content": null,
            "align_items": null,
            "align_self": null,
            "border": null,
            "bottom": null,
            "display": null,
            "flex": null,
            "flex_flow": null,
            "grid_area": null,
            "grid_auto_columns": null,
            "grid_auto_flow": null,
            "grid_auto_rows": null,
            "grid_column": null,
            "grid_gap": null,
            "grid_row": null,
            "grid_template_areas": null,
            "grid_template_columns": null,
            "grid_template_rows": null,
            "height": null,
            "justify_content": null,
            "justify_items": null,
            "left": null,
            "margin": null,
            "max_height": null,
            "max_width": null,
            "min_height": null,
            "min_width": null,
            "object_fit": null,
            "object_position": null,
            "order": null,
            "overflow": null,
            "overflow_x": null,
            "overflow_y": null,
            "padding": null,
            "right": null,
            "top": null,
            "visibility": null,
            "width": null
          }
        }
      }
    }
  },
  "nbformat": 4,
  "nbformat_minor": 0
}
