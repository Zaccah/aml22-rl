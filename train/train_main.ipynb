{
  "cells": [
    {
      "cell_type": "markdown",
      "metadata": {
        "id": "Igz-uJX17o9a"
      },
      "source": [
        "Install stable-baselines3 for training algorithms"
      ]
    },
    {
      "cell_type": "code",
      "execution_count": null,
      "metadata": {
        "colab": {
          "base_uri": "https://localhost:8080/"
        },
        "id": "IguhlEvu7urL",
        "outputId": "31134958-6bfd-4143-8cda-9905584f9fe0"
      },
      "outputs": [],
      "source": [
        "!pip install stable_baselines3"
      ]
    },
    {
      "cell_type": "markdown",
      "metadata": {
        "id": "R4zfEj-N7bUW"
      },
      "source": [
        "Set-up code"
      ]
    },
    {
      "cell_type": "code",
      "execution_count": null,
      "metadata": {
        "colab": {
          "base_uri": "https://localhost:8080/"
        },
        "id": "AW6XT0jSJI8e",
        "outputId": "d54af7e6-8c4f-4bfa-99cf-a9f399be7eb4"
      },
      "outputs": [],
      "source": [
        "!apt-get install -y \\\n",
        "    libgl1-mesa-dev \\\n",
        "    libgl1-mesa-glx \\\n",
        "    libglew-dev \\\n",
        "    libosmesa6-dev \\\n",
        "    software-properties-common\n",
        "\n",
        "!apt-get install -y patchelf\n",
        "\n",
        "!pip install gym\n",
        "!pip install free-mujoco-py"
      ]
    },
    {
      "cell_type": "markdown",
      "metadata": {
        "id": "tTg2PbLZ7aIt"
      },
      "source": [
        "Unzip custom-hopper environment and utils"
      ]
    },
    {
      "cell_type": "code",
      "execution_count": null,
      "metadata": {
        "colab": {
          "base_uri": "https://localhost:8080/"
        },
        "id": "-A_vfyEo7k0-",
        "outputId": "86e73e8e-684a-4438-fa05-bb86043d826a"
      },
      "outputs": [],
      "source": [
        "!unzip custom_hopper.zip"
      ]
    },
    {
      "cell_type": "markdown",
      "metadata": {
        "id": "6zuhEHzJ8G9j"
      },
      "source": [
        "Import libraries"
      ]
    },
    {
      "cell_type": "code",
      "execution_count": null,
      "metadata": {
        "colab": {
          "base_uri": "https://localhost:8080/"
        },
        "id": "NaSevanS8Kgs",
        "outputId": "41aead03-48a4-47f9-efc3-fe4dc0b0fd7f"
      },
      "outputs": [],
      "source": [
        "import gym\n",
        "from env.custom_hopper import *\n",
        "from stable_baselines3 import PPO"
      ]
    },
    {
      "cell_type": "code",
      "execution_count": null,
      "metadata": {
        "id": "21xb71Ep-2oW"
      },
      "outputs": [],
      "source": [
        "env = gym.make('CustomHopper-source-v0')\n",
        "model = PPO(\"MlpPolicy\", env, verbose=1)\n",
        "model.learn(total_timesteps=100000)\n"
      ]
    },
    {
      "cell_type": "markdown",
      "metadata": {
        "id": "xmPG5Xag-rkH"
      },
      "source": [
        "Save model for evaluation"
      ]
    },
    {
      "cell_type": "code",
      "execution_count": null,
      "metadata": {
        "id": "AScRczQn-q8t"
      },
      "outputs": [],
      "source": [
        "model.save(\"ppo_standard\")"
      ]
    }
  ],
  "metadata": {
    "accelerator": "GPU",
    "colab": {
      "provenance": []
    },
    "gpuClass": "standard",
    "kernelspec": {
      "display_name": "Python 3",
      "name": "python3"
    },
    "language_info": {
      "name": "python"
    }
  },
  "nbformat": 4,
  "nbformat_minor": 0
}
